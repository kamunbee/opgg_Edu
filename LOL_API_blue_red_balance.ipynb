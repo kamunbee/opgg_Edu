{
 "cells": [
  {
   "cell_type": "code",
   "execution_count": 68,
   "id": "c1d21392",
   "metadata": {},
   "outputs": [],
   "source": [
    "import pandas as pd\n",
    "import numpy as np\n",
    "import requests\n",
    "import matplotlib as plt\n",
    "import time\n",
    "\n",
    "# Riot Developer Portal에서 받은 API KEY입니다.\n",
    "# 해당 값을 포함한 모든 종류의 KEY는 코드에 직접적으로 노출되지 않도록 하는 것이 좋습니다.\n",
    "api_key = 'RGAPI-68bcabc9-5f8d-4032-9378-3d7f707f3203'\n",
    "\n",
    "# 내 소환사명 체크하기\n",
    "summonerName = \"으른고양이\"\n",
    "requesturl = \"https://kr.api.riotgames.com/lol/summoner/v4/summoners/by-name/\"+summonerName+\"?api_key=\"+api_key\n",
    "# requesturl = \"https://kr.api.riotgames.com/lol/summoner/v4/summoners/by-name/%EC%9C%BC%EB%A5%B8%EA%B3%A0%EC%96%91%EC%9D%B4?api_key=RGAPI-7e3ee2a5-1074-414e-903f-4dd3ffc749a0\"\n",
    "r = requests.get(requesturl)\n",
    "# https://kr.api.riotgames.com/lol/summoner/v4/summoners/by-name/%EC%9C%BC%EB%A5%B8%EA%B3%A0%EC%96%91%EC%9D%B4?"
   ]
  },
  {
   "cell_type": "code",
   "execution_count": 35,
   "id": "ae6bffcb",
   "metadata": {},
   "outputs": [
    {
     "data": {
      "text/plain": [
       "{'id': 'rTSdd9vZrO7_6io1ZAKta98vKq8zggGsMvjMGQ5i65UtZw',\n",
       " 'accountId': 'FbbYWky4v8UHLZ3BGZf213l4IqGNcVhDGO6A6d3t4Ijk',\n",
       " 'puuid': 'h9yfRKpJKADHKSDO0aGHDtQza_eY5Gl5z0JQ-oOfAWScasBSCYiaJt2uMpFOFKwaQDA4hTKqp9XA1w',\n",
       " 'name': '으른고양이',\n",
       " 'profileIconId': 596,\n",
       " 'revisionDate': 1628689575445,\n",
       " 'summonerLevel': 310}"
      ]
     },
     "execution_count": 35,
     "metadata": {},
     "output_type": "execute_result"
    }
   ],
   "source": [
    "# 불러온 데이터 확인\n",
    "r.json()"
   ]
  },
  {
   "cell_type": "code",
   "execution_count": 40,
   "id": "0b2e876e",
   "metadata": {},
   "outputs": [
    {
     "data": {
      "text/plain": [
       "'FbbYWky4v8UHLZ3BGZf213l4IqGNcVhDGO6A6d3t4Ijk'"
      ]
     },
     "execution_count": 40,
     "metadata": {},
     "output_type": "execute_result"
    }
   ],
   "source": [
    "# 불러온 데이터 중 소환사1의 데이터 확인\n",
    "accountId = r.json()['accountId']\n",
    "accountId"
   ]
  },
  {
   "cell_type": "code",
   "execution_count": 44,
   "id": "70fcddd1",
   "metadata": {},
   "outputs": [],
   "source": [
    "match_request = \"https://kr.api.riotgames.com/lol/match/v4/matchlists/by-account/\"+accountId+\"?api_key=\"+api_key\n",
    "match_get = requests.get(match_request)\n",
    "new_games = pd.json_normalize(match_get.json()['matches'])['gameId']"
   ]
  },
  {
   "cell_type": "code",
   "execution_count": 70,
   "id": "73fe9cc9",
   "metadata": {},
   "outputs": [],
   "source": [
    "import time"
   ]
  },
  {
   "cell_type": "code",
   "execution_count": 76,
   "id": "0a9cc9b9",
   "metadata": {},
   "outputs": [],
   "source": [
    "my_games = new_games\n",
    "start_index = 100\n",
    "while True:\n",
    "#     print(type(start_index))\n",
    "    match_requesturl = \"https://kr.api.riotgames.com/lol/match/v4/matchlists/by-account/\"+accountId+\"?beginIndex=\"+str(start_index)+\"&api_key=\"+api_key\n",
    "    match_return = requests.get(match_requesturl)\n",
    "    if len(pd.json_normalize(match_return.json()['matches'])) == 0:\n",
    "        break\n",
    "    new_games = pd.json_normalize(match_return.json()['matches'])['gameId']\n",
    "    my_games = pd.concat([my_games, new_games])\n",
    "    start_index = start_index+100\n",
    "    time.sleep(1)"
   ]
  },
  {
   "cell_type": "code",
   "execution_count": 78,
   "id": "c1bad5d3",
   "metadata": {},
   "outputs": [],
   "source": [
    "my_df = pd.DataFrame()"
   ]
  },
  {
   "cell_type": "code",
   "execution_count": 80,
   "id": "2c6ff585",
   "metadata": {},
   "outputs": [],
   "source": [
    "for gameid in my_games:\n",
    "    match_detail_requesturl = \"https://kr.api.riotgames.com/lol/match/v4/matches/\"+str(gameid)+\"?api_key=\"+api_key\n",
    "    match_detail_return = requests.get(match_detail_requesturl)\n",
    "    df_new = pd.json_normalize(match_detail_return.json()['participants'])\n",
    "    participant_me = pd.json_normalize(match_detail_return.json()['participantIdentities'])\n",
    "    participant_me = participant_me[participant_me['player.accountId']==r.json()['accountId']]\n",
    "    df_new = df_new[df_new['participantId']==int(participant_me['participantId'])]\n",
    "    my_df = my_df.append(df_new[['teamId','stats.win']])\n",
    "    time.sleep(1)"
   ]
  },
  {
   "cell_type": "code",
   "execution_count": 81,
   "id": "c5fd8780",
   "metadata": {},
   "outputs": [],
   "source": [
    "def count_WIN(x):\n",
    "    d = []\n",
    "    d.append(x.teamId.count()),\n",
    "    d.append(x['stats.win'].sum())\n",
    "    \n",
    "    return pd.Series(d, index = ['count','win_count'])\n",
    "\n",
    "my_df = my_df.groupby('teamId', as_index=False).apply(count_WIN)"
   ]
  },
  {
   "cell_type": "code",
   "execution_count": 82,
   "id": "ef9d2d58",
   "metadata": {},
   "outputs": [
    {
     "data": {
      "text/html": [
       "<div>\n",
       "<style scoped>\n",
       "    .dataframe tbody tr th:only-of-type {\n",
       "        vertical-align: middle;\n",
       "    }\n",
       "\n",
       "    .dataframe tbody tr th {\n",
       "        vertical-align: top;\n",
       "    }\n",
       "\n",
       "    .dataframe thead th {\n",
       "        text-align: right;\n",
       "    }\n",
       "</style>\n",
       "<table border=\"1\" class=\"dataframe\">\n",
       "  <thead>\n",
       "    <tr style=\"text-align: right;\">\n",
       "      <th></th>\n",
       "      <th>teamId</th>\n",
       "      <th>count</th>\n",
       "      <th>win_count</th>\n",
       "      <th>WR</th>\n",
       "    </tr>\n",
       "  </thead>\n",
       "  <tbody>\n",
       "    <tr>\n",
       "      <th>0</th>\n",
       "      <td>100</td>\n",
       "      <td>1336</td>\n",
       "      <td>726</td>\n",
       "      <td>0.543413</td>\n",
       "    </tr>\n",
       "    <tr>\n",
       "      <th>1</th>\n",
       "      <td>200</td>\n",
       "      <td>1417</td>\n",
       "      <td>696</td>\n",
       "      <td>0.491179</td>\n",
       "    </tr>\n",
       "  </tbody>\n",
       "</table>\n",
       "</div>"
      ],
      "text/plain": [
       "   teamId  count  win_count        WR\n",
       "0     100   1336        726  0.543413\n",
       "1     200   1417        696  0.491179"
      ]
     },
     "execution_count": 82,
     "metadata": {},
     "output_type": "execute_result"
    }
   ],
   "source": [
    "my_df['WR'] = my_df['win_count'] / my_df['count']\n",
    "my_df"
   ]
  },
  {
   "cell_type": "code",
   "execution_count": null,
   "id": "db9d8143",
   "metadata": {},
   "outputs": [],
   "source": []
  }
 ],
 "metadata": {
  "kernelspec": {
   "display_name": "Python 3",
   "language": "python",
   "name": "python3"
  },
  "language_info": {
   "codemirror_mode": {
    "name": "ipython",
    "version": 3
   },
   "file_extension": ".py",
   "mimetype": "text/x-python",
   "name": "python",
   "nbconvert_exporter": "python",
   "pygments_lexer": "ipython3",
   "version": "3.8.8"
  }
 },
 "nbformat": 4,
 "nbformat_minor": 5
}
