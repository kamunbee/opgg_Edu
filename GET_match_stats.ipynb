{
 "cells": [
  {
   "cell_type": "code",
   "execution_count": 1,
   "id": "03ed8126",
   "metadata": {},
   "outputs": [],
   "source": [
    "import pandas as pd\n",
    "import numpy as np\n",
    "import requests\n",
    "import matplotlib as plt\n",
    "\n",
    "# Riot Developer Portal에서 받은 API KEY입니다.\n",
    "# 해당 값을 포함한 모든 종류의 KEY는 코드에 직접적으로 노출되지 않도록 하는 것이 좋습니다.\n",
    "api_key = 'RGAPI-########-####-####-####-############'\n",
    "\n",
    "# 방금 진행한 내전의 gameId값입니다. 클라이언트 대전기록에서 확인할 수 있습니다.\n",
    "gameid = 5354085529\n",
    "requesturl = \"https://kr.api.riotgames.com/lol/match/v4/matches/\"+str(gameid)+\"?api_key=\"+api_key\n",
    "# https://kr.api.riotgames.com/lol/summoner/v4/summoners/by-name/%EC%9C%BC%EB%A5%B8%EA%B3%A0%EC%96%91%EC%9D%B4?api_key=RGAPI-7e3ee2a5-1074-414e-903f-4dd3ffc749a0\n",
    "r = requests.get(requesturl)"
   ]
  },
  {
   "cell_type": "code",
   "execution_count": 2,
   "id": "9d63ad21",
   "metadata": {
    "scrolled": true
   },
   "outputs": [
    {
     "data": {
      "text/plain": [
       "{'status': {'message': 'Forbidden', 'status_code': 403}}"
      ]
     },
     "execution_count": 2,
     "metadata": {},
     "output_type": "execute_result"
    }
   ],
   "source": [
    "# 불러온 데이터 확인\n",
    "r.json()"
   ]
  },
  {
   "cell_type": "code",
   "execution_count": null,
   "id": "e307fa29",
   "metadata": {},
   "outputs": [],
   "source": [
    "# 불러온 데이터 중 소환사1의 데이터 확인\n",
    "r.json()['participants'][0]"
   ]
  },
  {
   "cell_type": "code",
   "execution_count": null,
   "id": "c040589d",
   "metadata": {},
   "outputs": [],
   "source": [
    "# DataFrame으로 변환해서 확인\n",
    "pd.DataFrame(r.json()['participants'])"
   ]
  },
  {
   "cell_type": "code",
   "execution_count": null,
   "id": "0c747286",
   "metadata": {},
   "outputs": [],
   "source": [
    "# nested된 부분 unnest해서 DataFrame으로 변환\n",
    "df = pd.json_normalize(r.json()['participants'])"
   ]
  },
  {
   "cell_type": "code",
   "execution_count": null,
   "id": "3cc40aca",
   "metadata": {},
   "outputs": [],
   "source": [
    "# 확인할 변수\n",
    "COLUMNS = [\"participantId\", \"teamId\", \"championId\", \"spell1Id\", \"spell2Id\", \"stats.win\",\n",
    "           \"stats.item0\",\"stats.item1\",\"stats.item2\",\"stats.item3\",\"stats.item4\",\"stats.item5\",\"stats.item6\",\n",
    "           \"stats.kills\",\"stats.deaths\",\"stats.assists\",\"stats.totalDamageDealt\",\"stats.totalDamageTaken\",\n",
    "           \"stats.goldEarned\"]"
   ]
  },
  {
   "cell_type": "code",
   "execution_count": null,
   "id": "066d8a97",
   "metadata": {},
   "outputs": [],
   "source": [
    "# 확인할 변수만 가져와서 새로운 DataFrame에 저장\n",
    "df2 = df[COLUMNS]"
   ]
  },
  {
   "cell_type": "code",
   "execution_count": null,
   "id": "2e919b2c",
   "metadata": {},
   "outputs": [],
   "source": [
    "# Column 이름에 불필요한 'stats.'가 붙은 걸 삭제\n",
    "df2.columns = df2.columns.str.replace('stats.', '', regex = True)"
   ]
  },
  {
   "cell_type": "code",
   "execution_count": null,
   "id": "cac26d93",
   "metadata": {},
   "outputs": [],
   "source": [
    "# 최종 추출 형태 확인\n",
    "df2"
   ]
  },
  {
   "cell_type": "code",
   "execution_count": null,
   "id": "2e5de56e",
   "metadata": {},
   "outputs": [],
   "source": [
    "# 각종 개인 지표 추가해서 새로운 DataFrame에 저장\n",
    "# KDA = (K + A) / D\n",
    "# GPM = goldEarned / (gameDuration_In_Munite)\n",
    "# DPM = damageDealt / (gameDuration_In_Munite)\n",
    "# DTPM = damageTaken / (gameDuration_In_Munite)\n",
    "df3 = df2.assign(KDA=lambda x: (x['kills']+x['assists'])/x['deaths'])\n",
    "df3['GPM'] = df3['goldEarned'] / r.json()['gameDuration'] * 60\n",
    "df3['DPM'] = df3['totalDamageDealt'] / r.json()['gameDuration'] * 60\n",
    "df3['DTPM'] = df3['totalDamageTaken'] / r.json()['gameDuration'] * 60"
   ]
  },
  {
   "cell_type": "code",
   "execution_count": null,
   "id": "5b32995f",
   "metadata": {
    "scrolled": true
   },
   "outputs": [],
   "source": [
    "df3"
   ]
  },
  {
   "cell_type": "code",
   "execution_count": null,
   "id": "d3304c22",
   "metadata": {},
   "outputs": [],
   "source": [
    "# 숫자로 된 각종 Key값에 대한 Value 가져오기\n",
    "champion_constant = requests.get(\"http://ddragon.leagueoflegends.com/cdn/11.15.1/data/ko_KR/champion.json\")\n",
    "spell_constant = requests.get(\"http://ddragon.leagueoflegends.com/cdn/11.15.1/data/ko_KR/summoner.json\")\n",
    "item_constant = requests.get(\"http://ddragon.leagueoflegends.com/cdn/11.15.1/data/ko_KR/item.json\")"
   ]
  },
  {
   "cell_type": "code",
   "execution_count": null,
   "id": "02f9d48e",
   "metadata": {},
   "outputs": [],
   "source": [
    "# Json 파일을 DataFrame으로 변환\n",
    "champion_df = pd.DataFrame(champion_constant.json()['data']).T[['key','name']]\n",
    "spell_df = pd.DataFrame(spell_constant.json()['data']).T[['key','name']]\n",
    "item_df = pd.DataFrame(item_constant.json()['data']).T['name'].rename_axis(\"key\").reset_index()\n",
    "\n",
    "# 변수형 문자 -> 숫자\n",
    "champion_df['key'] = pd.to_numeric(champion_df['key'])\n",
    "spell_df['key'] = pd.to_numeric(spell_df['key'])\n",
    "item_df['key'] = pd.to_numeric(item_df['key'])"
   ]
  },
  {
   "cell_type": "code",
   "execution_count": null,
   "id": "10623a1e",
   "metadata": {},
   "outputs": [],
   "source": [
    "# 매칭되는 곳으로 내용 추가하여 새로운 DataFrame으로 저장\n",
    "df4 = pd.merge(df3,champion_df,how = 'left', left_on = 'championId', right_on = 'key')"
   ]
  },
  {
   "cell_type": "code",
   "execution_count": null,
   "id": "5e3ee5bc",
   "metadata": {},
   "outputs": [],
   "source": [
    "# DataFrame 확인\n",
    "df4"
   ]
  },
  {
   "cell_type": "code",
   "execution_count": null,
   "id": "50fe51bb",
   "metadata": {},
   "outputs": [],
   "source": [
    "# 중복되는 값 삭제\n",
    "df4 = df4.rename(columns={'name': 'Champion'}).drop(['championId','key'],axis = 1)"
   ]
  },
  {
   "cell_type": "code",
   "execution_count": null,
   "id": "6eb7d210",
   "metadata": {},
   "outputs": [],
   "source": [
    "df4 = pd.merge(df4,spell_df,how = 'left', left_on = 'spell1Id', right_on = 'key')\n",
    "df4 = df4.rename(columns={'name': 'D'}).drop(['spell1Id','key'],axis = 1)\n",
    "df4 = pd.merge(df4,spell_df,how = 'left', left_on = 'spell2Id', right_on = 'key')\n",
    "df4 = df4.rename(columns={'name': 'F'}).drop(['spell2Id','key'],axis = 1)"
   ]
  },
  {
   "cell_type": "code",
   "execution_count": null,
   "id": "9b07a422",
   "metadata": {},
   "outputs": [],
   "source": [
    "df4 = pd.merge(df4,item_df,how = 'left', left_on = 'item0', right_on = 'key')\n",
    "df4 = df4.rename(columns={'name': 'Item1'}).drop(['item0','key'],axis = 1)\n",
    "df4 = pd.merge(df4,item_df,how = 'left', left_on = 'item1', right_on = 'key')\n",
    "df4 = df4.rename(columns={'name': 'Item2'}).drop(['item1','key'],axis = 1)\n",
    "df4 = pd.merge(df4,item_df,how = 'left', left_on = 'item2', right_on = 'key')\n",
    "df4 = df4.rename(columns={'name': 'Item3'}).drop(['item2','key'],axis = 1)\n",
    "df4 = pd.merge(df4,item_df,how = 'left', left_on = 'item3', right_on = 'key')\n",
    "df4 = df4.rename(columns={'name': 'Item4'}).drop(['item3','key'],axis = 1)\n",
    "df4 = pd.merge(df4,item_df,how = 'left', left_on = 'item4', right_on = 'key')\n",
    "df4 = df4.rename(columns={'name': 'Item5'}).drop(['item4','key'],axis = 1)\n",
    "df4 = pd.merge(df4,item_df,how = 'left', left_on = 'item5', right_on = 'key')\n",
    "df4 = df4.rename(columns={'name': 'Item6'}).drop(['item5','key'],axis = 1)\n",
    "df4 = pd.merge(df4,item_df,how = 'left', left_on = 'item6', right_on = 'key')\n",
    "df4 = df4.rename(columns={'name': 'Trinket'}).drop(['item6','key'],axis = 1)"
   ]
  },
  {
   "cell_type": "code",
   "execution_count": null,
   "id": "0b360d0c",
   "metadata": {},
   "outputs": [],
   "source": [
    "# 확인할 변수\n",
    "COLUMNS_NEW = [\"participantId\", \"teamId\",\"win\", \"Champion\", \"D\", \"F\", \"KDA\",\n",
    "           \"kills\",\"deaths\",\"assists\",\"Item1\",\"Item2\",\"Item3\",\"Item4\",\"Item5\",\"Item6\",\"Trinket\",\"GPM\",\"DPM\",\"DTPM\"]"
   ]
  },
  {
   "cell_type": "code",
   "execution_count": null,
   "id": "a02a5d84",
   "metadata": {},
   "outputs": [],
   "source": [
    "df5 = df4[COLUMNS_NEW]"
   ]
  },
  {
   "cell_type": "code",
   "execution_count": null,
   "id": "862afb6a",
   "metadata": {},
   "outputs": [],
   "source": [
    "df5"
   ]
  }
 ],
 "metadata": {
  "kernelspec": {
   "display_name": "Python 3",
   "language": "python",
   "name": "python3"
  },
  "language_info": {
   "codemirror_mode": {
    "name": "ipython",
    "version": 3
   },
   "file_extension": ".py",
   "mimetype": "text/x-python",
   "name": "python",
   "nbconvert_exporter": "python",
   "pygments_lexer": "ipython3",
   "version": "3.8.8"
  },
  "varInspector": {
   "cols": {
    "lenName": 16,
    "lenType": 16,
    "lenVar": 40
   },
   "kernels_config": {
    "python": {
     "delete_cmd_postfix": "",
     "delete_cmd_prefix": "del ",
     "library": "var_list.py",
     "varRefreshCmd": "print(var_dic_list())"
    },
    "r": {
     "delete_cmd_postfix": ") ",
     "delete_cmd_prefix": "rm(",
     "library": "var_list.r",
     "varRefreshCmd": "cat(var_dic_list()) "
    }
   },
   "position": {
    "height": "144px",
    "left": "1423px",
    "right": "20px",
    "top": "120px",
    "width": "350px"
   },
   "types_to_exclude": [
    "module",
    "function",
    "builtin_function_or_method",
    "instance",
    "_Feature"
   ],
   "window_display": false
  }
 },
 "nbformat": 4,
 "nbformat_minor": 5
}
